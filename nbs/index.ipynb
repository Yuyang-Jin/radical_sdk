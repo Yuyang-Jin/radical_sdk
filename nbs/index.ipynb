{
 "cells": [
  {
   "cell_type": "markdown",
   "metadata": {},
   "source": [
    "# RaDICaL Dataset SDK\n",
    "\n",
    "> The RaDICaL Dataset: A synchronized and calibrated low-level Radar, RGB-D and IMU dataset."
   ]
  },
  {
   "cell_type": "markdown",
   "metadata": {},
   "source": [
    "![CI](https://github.com/moodoki/radical_sdk/workflows/CI/badge.svg)"
   ]
  },
  {
   "cell_type": "markdown",
   "metadata": {},
   "source": [
    "> youtube: https://youtu.be/l0AyUw59w7g"
   ]
  },
  {
   "cell_type": "markdown",
   "metadata": {},
   "source": [
    "This is pre-alpha research quality code, and is being actively developed on.\n",
    "Anything may change at anytime. Please check back here often.\n",
    "\n",
    "Bug reports are very much appreciated."
   ]
  },
  {
   "cell_type": "markdown",
   "metadata": {},
   "source": [
    "# TODO\n",
    "\n",
    " - [ ] Radar config reader\n",
    " - [x] Read from aligned H5 dataset\n",
    " - [ ] Read from raw bags (to produce aligned/unaligned H5 datasets)\n",
    " - [x] Polar to Cartesian Projection\n",
    " - [ ] Camera/Radar coordinate transforms"
   ]
  },
  {
   "cell_type": "markdown",
   "metadata": {},
   "source": [
    "## Install"
   ]
  },
  {
   "cell_type": "markdown",
   "metadata": {},
   "source": [
    "`python -m pip install git+https://github.com/moodoki/radical_sdk.git`"
   ]
  },
  {
   "cell_type": "markdown",
   "metadata": {},
   "source": [
    "## How to use\n",
    "\n",
    "> Dataset is currently under review and will be made available soon.\n",
    "\n",
    "Download the dataset at our [project page](https://publish.illinois.edu/radicaldata/).\n",
    "\n",
    "A small sample to try things our can be found [here]().\n"
   ]
  },
  {
   "cell_type": "markdown",
   "metadata": {},
   "source": [
    "Reading and displaying depth and RGB is easy"
   ]
  },
  {
   "cell_type": "code",
   "execution_count": null,
   "metadata": {},
   "outputs": [],
   "source": [
    "#skip\n",
    "import matplotlib.pyplot as plt\n",
    "import numpy as np\n",
    "\n",
    "from radicalsdk.h5dataset import H5DatasetLoader\n",
    "\n",
    "data = H5DatasetLoader('../samples/indoor_sample.h5')\n",
    "\n",
    "\n",
    "frame_idx = 1\n",
    "plt.figure()\n",
    "plt.imshow(data['rgb'][frame_idx])\n",
    "plt.title(f'RGB frame {frame_idx}@{data[\"rgb_timestamp\"][frame_idx]}')\n",
    "plt.show()\n",
    "plt.figure()\n",
    "plt.imshow(data['depth'][frame_idx])\n",
    "plt.title(f'Depth frame {frame_idx}@{data[\"depth_timestamp\"][frame_idx]}')\n",
    "plt.show()"
   ]
  },
  {
   "cell_type": "markdown",
   "metadata": {},
   "source": [
    "The radar data is a 3D array arranged slow_time, antenna, fast_time.\n",
    "\n",
    "`RadarFrame` encapsulates the necessary processing"
   ]
  },
  {
   "cell_type": "code",
   "execution_count": null,
   "metadata": {},
   "outputs": [],
   "source": [
    "#skip\n",
    "\n",
    "from radicalsdk.radar.config_v1 import read_radar_params\n",
    "from radicalsdk.radar.v1 import RadarFrame\n",
    "\n",
    "# Read config and configure RadarFrame object\n",
    "radar_config = read_radar_params('../samples/indoor_human_rcs.cfg')\n",
    "rf = RadarFrame(radar_config)\n",
    "\n",
    "#Set raw cube to the required frame from the hdf5 file\n",
    "rf.raw_cube = data['radar'][1]\n",
    "\n",
    "# The desired view of the radar frame is now available"
   ]
  },
  {
   "cell_type": "markdown",
   "metadata": {},
   "source": [
    "### Range Azimuth in Polar Coordinates"
   ]
  },
  {
   "cell_type": "code",
   "execution_count": null,
   "metadata": {},
   "outputs": [],
   "source": [
    "# skip\n",
    "plt.figure()\n",
    "plt.imshow(np.log(np.abs(rf.range_azimuth_capon)))\n",
    "plt.show()"
   ]
  },
  {
   "cell_type": "markdown",
   "metadata": {},
   "source": [
    "### Projecting to cartesian"
   ]
  },
  {
   "cell_type": "code",
   "execution_count": null,
   "metadata": {},
   "outputs": [],
   "source": [
    "#skip\n",
    "from radicalsdk.geometry import PolarToCartesianWarp\n",
    "\n",
    "p2c = PolarToCartesianWarp()\n",
    "\n",
    "cartesian_radar = p2c(np.abs(rf.range_azimuth_capon)[np.newaxis, ..., np.newaxis])\n",
    "plt.figure()\n",
    "plt.imshow(np.log(cartesian_radar[0, ...]))\n",
    "plt.show()"
   ]
  },
  {
   "cell_type": "code",
   "execution_count": null,
   "metadata": {},
   "outputs": [],
   "source": []
  }
 ],
 "metadata": {
  "kernelspec": {
   "display_name": "Python 3",
   "language": "python",
   "name": "python3"
  }
 },
 "nbformat": 4,
 "nbformat_minor": 4
}
