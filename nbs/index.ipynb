{
 "cells": [
  {
   "cell_type": "markdown",
   "metadata": {},
   "source": [
    "# RaDICaL Dataset SDK\n",
    "\n",
    "> The RaDICaL Dataset: A synchronized and calibrated low-level Radar, RGB-D and IMU dataset."
   ]
  },
  {
   "cell_type": "markdown",
   "metadata": {},
   "source": [
    "![CI](https://github.com/moodoki/radical_sdk/workflows/CI/badge.svg)"
   ]
  },
  {
   "cell_type": "markdown",
   "metadata": {},
   "source": [
    "This is pre-alpha research quality code, and is being actively developed on.\n",
    "Bug reports are very much appreciated."
   ]
  },
  {
   "cell_type": "markdown",
   "metadata": {},
   "source": [
    "# TODO\n",
    "\n",
    " - [ ] Radar config reader\n",
    " - [ ] Read from aligned H5 dataset\n",
    " - [ ] Read from raw bags (to produce aligned/unaligned H5 datasets)\n",
    " - [ ] Polar to Cartesian Projection\n",
    " - [ ] Camera/Radar coordinate transforms"
   ]
  },
  {
   "cell_type": "markdown",
   "metadata": {},
   "source": [
    "## Install"
   ]
  },
  {
   "cell_type": "markdown",
   "metadata": {},
   "source": [
    "`python -m pip install git+https://github.com/moodoki/radical_sdk.git`"
   ]
  },
  {
   "cell_type": "markdown",
   "metadata": {},
   "source": [
    "## How to use\n",
    "\n",
    "Download the dataset at our [project page](https://publish.illinois.edu/radicaldata/).\n",
    "\n",
    "A smaller sample to try things our can be found [here]()."
   ]
  },
  {
   "cell_type": "code",
   "execution_count": null,
   "metadata": {},
   "outputs": [],
   "source": [
    "import radicalsdk.h5dataset"
   ]
  },
  {
   "cell_type": "code",
   "execution_count": null,
   "metadata": {},
   "outputs": [],
   "source": [
    "dataset = radicalsdk.h5dataset"
   ]
  },
  {
   "cell_type": "code",
   "execution_count": null,
   "metadata": {},
   "outputs": [],
   "source": []
  }
 ],
 "metadata": {
  "kernelspec": {
   "display_name": "Python 3",
   "language": "python",
   "name": "python3"
  }
 },
 "nbformat": 4,
 "nbformat_minor": 4
}
