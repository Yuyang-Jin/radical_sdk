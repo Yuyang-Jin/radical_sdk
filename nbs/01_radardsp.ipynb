{
 "cells": [
  {
   "cell_type": "code",
   "execution_count": null,
   "metadata": {},
   "outputs": [],
   "source": [
    "#default_exp radardsp"
   ]
  },
  {
   "cell_type": "markdown",
   "metadata": {},
   "source": [
    "# radardsp"
   ]
  },
  {
   "cell_type": "code",
   "execution_count": null,
   "metadata": {},
   "outputs": [],
   "source": [
    "#hide\n",
    "from nbdev.showdoc import *"
   ]
  },
  {
   "cell_type": "code",
   "execution_count": null,
   "metadata": {},
   "outputs": [],
   "source": [
    "#export\n",
    "\n",
    "import numpy as np\n",
    "from mmwave import dsp"
   ]
  },
  {
   "cell_type": "code",
   "execution_count": null,
   "metadata": {},
   "outputs": [],
   "source": [
    "#export\n",
    "\n",
    "def cfar_processing(radar_cube):\n",
    "    range_az = np.abs(radar_cube)\n",
    "    heatmap_log = np.log2(range_az)\n",
    "\n",
    "    first_pass, _ = np.apply_along_axis(func1d=dsp.cago_,\n",
    "                                        axis=0,\n",
    "                                        arr=heatmap_log,\n",
    "                                        l_bound=1.5,\n",
    "                                        guard_len=4,\n",
    "                                        noise_len=16)\n",
    "\n",
    "    # --- cfar in range direction\n",
    "    second_pass, noise_floor = np.apply_along_axis(func1d=dsp.caso_,\n",
    "                                                   axis=0,\n",
    "                                                   arr=heatmap_log.T,\n",
    "                                                   l_bound=3,\n",
    "                                                   guard_len=4,\n",
    "                                                   noise_len=16)\n",
    "\n",
    "    # --- classify peaks and caclulate snrs\n",
    "    SKIP_SIZE = 4\n",
    "    noise_floor = noise_floor.T\n",
    "    first_pass = (heatmap_log > first_pass)\n",
    "    second_pass = (heatmap_log > second_pass.T)\n",
    "    peaks = (first_pass & second_pass)\n",
    "    peaks[:SKIP_SIZE, :] = 0\n",
    "    peaks[-SKIP_SIZE:, :] = 0\n",
    "    peaks[:, :SKIP_SIZE] = 0\n",
    "    peaks[:, -SKIP_SIZE:] = 0\n",
    "\n",
    "    peaks = peaks.astype('float32')\n",
    "    return peaks\n"
   ]
  },
  {
   "cell_type": "code",
   "execution_count": null,
   "metadata": {},
   "outputs": [],
   "source": []
  }
 ],
 "metadata": {
  "kernelspec": {
   "display_name": "Python 3",
   "language": "python",
   "name": "python3"
  }
 },
 "nbformat": 4,
 "nbformat_minor": 4
}
