{
 "cells": [
  {
   "cell_type": "code",
   "execution_count": null,
   "metadata": {},
   "outputs": [],
   "source": [
    "#default_exp beamformers"
   ]
  },
  {
   "cell_type": "markdown",
   "metadata": {},
   "source": [
    "# Beamformers\n",
    "\n",
    " > Tensorflow implementations of beamformers\n",
    " \n",
    "Supports working on batches.\n"
   ]
  },
  {
   "cell_type": "code",
   "execution_count": null,
   "metadata": {},
   "outputs": [],
   "source": [
    "#export\n",
    "import tensorflow as tf\n",
    "import tensorflow.linalg as linalg"
   ]
  },
  {
   "cell_type": "code",
   "execution_count": null,
   "metadata": {},
   "outputs": [],
   "source": [
    "#export\n",
    "def cov_matrix(x):\n",
    "    \"\"\"Computes the covariance matrix on signal x\"\"\"\n",
    "    n_chirps = x.shape[-1]\n",
    "    Rxx = tf.matmul(x, x, adjoint_b=True)\n",
    "    return Rxx/n_chirps\n",
    "\n",
    "def forward_backward_avg(Rxx):\n",
    "    \"\"\"Backward forward averaging\"\"\"\n",
    "    num_rx = Rxx.shape[-1]\n",
    "    \n",
    "    J = tf.reverse(tf.eye(num_rx, dtype=Rxx.dtype), [-1])\n",
    "    \n",
    "    R_fb = 0.5 * (Rxx + tf.matmul(\n",
    "        J, tf.matmul(tf.math.conj(Rxx), J)))\n",
    "    \n",
    "    return R_fb\n",
    "\n",
    "def aoa_capon(x, steering_vec, mu = 1e-7, bottom_center=True):\n",
    "    \"\"\"Tensorflow implementation of Capon AoA estimatation\"\"\"\n",
    "    num_rx = x.shape[-2]\n",
    "    Rxx = cov_matrix(x)\n",
    "    Rxx = forward_backward_avg(Rxx)\n",
    "    \n",
    "    if mu is not None:\n",
    "        uI = tf.eye(num_rx, dtype=x.dtype) * mu    \n",
    "        Rxx_inv = linalg.inv(Rxx+uI)\n",
    "    else:\n",
    "        Rxx_inv = linalg.inv(Rxx)\n",
    "    Rxx_inv_a = tf.matmul(Rxx_inv, steering_vec, transpose_b=True)\n",
    "    \n",
    "    den = tf.math.reciprocal_no_nan(\n",
    "        tf.einsum('ij,...ji->...i', tf.math.conj(steering_vec), Rxx_inv_a)\n",
    "    )\n",
    "    weights = tf.einsum('bij,bj->bi', Rxx_inv_a, den)\n",
    "    \n",
    "    return den, weights"
   ]
  },
  {
   "cell_type": "code",
   "execution_count": null,
   "metadata": {},
   "outputs": [],
   "source": [
    "from mmwave import dsp\n",
    "import numpy as np\n",
    "\n",
    "np.random.seed(2021)"
   ]
  },
  {
   "cell_type": "code",
   "execution_count": null,
   "metadata": {},
   "outputs": [],
   "source": [
    "xx = np.random.random((64, 8, 32)) + 1j * np.random.random((64, 8, 32))\n",
    "\n",
    "npRxx = np.array([dsp.cov_matrix(x) for x in xx])\n",
    "tfRxx = cov_matrix(xx)\n",
    "\n",
    "assert np.allclose(npRxx, tfRxx)\n"
   ]
  },
  {
   "cell_type": "code",
   "execution_count": null,
   "metadata": {},
   "outputs": [],
   "source": [
    "npRxxfb = np.array([dsp.forward_backward_avg(Rxx) for Rxx in npRxx])\n",
    "tfRxxfb = forward_backward_avg(tfRxx)\n",
    "\n",
    "assert np.allclose(npRxxfb, tfRxxfb)"
   ]
  },
  {
   "cell_type": "code",
   "execution_count": null,
   "metadata": {},
   "outputs": [],
   "source": [
    "steering_vec = np.random.random((181, 8)) + 1j * np.random.random((181, 8))\n",
    "\n",
    "npAoA = [dsp.aoa_capon(x, steering_vec) for x in xx]\n",
    "npSpectrum = np.array([aoa[0] for aoa in npAoA])\n",
    "npWeights = np.array([aoa[1] for aoa in npAoA])\n",
    "\n",
    "tfSpectrum, tfWeights = aoa_capon(xx, steering_vec, mu=None)\n",
    "\n",
    "assert np.allclose(npSpectrum, tfSpectrum)\n",
    "assert np.allclose(npWeights, tfWeights)"
   ]
  },
  {
   "cell_type": "markdown",
   "metadata": {},
   "source": [
    "## Example Usage"
   ]
  },
  {
   "cell_type": "code",
   "execution_count": null,
   "metadata": {},
   "outputs": [],
   "source": [
    "#skip\n",
    "import matplotlib.pyplot as plt\n",
    "import numpy as np\n",
    "\n",
    "from radicalsdk.h5dataset import H5DatasetLoader\n",
    "from radicalsdk.radar.config_v1 import read_radar_params\n",
    "from radicalsdk.radar.v1 import RadarFrame\n",
    "\n",
    "data = H5DatasetLoader('../samples/indoor_sample_50.h5')\n",
    "\n",
    "# Read config and configure RadarFrame object\n",
    "radar_config = read_radar_params('../samples/indoor_human_rcs.cfg')\n",
    "rf = RadarFrame(radar_config)"
   ]
  },
  {
   "cell_type": "code",
   "execution_count": null,
   "metadata": {},
   "outputs": [],
   "source": [
    "#skip\n",
    "# Try on sample data\n",
    "FRAME_IDX = 2\n",
    "mmwave_range_az = rf.compute_range_azimuth(data['radar'][FRAME_IDX])\n",
    "range_cube = rf.range_cube.copy()"
   ]
  },
  {
   "cell_type": "markdown",
   "metadata": {},
   "source": [
    "Reference implementation in NumPy"
   ]
  },
  {
   "cell_type": "code",
   "execution_count": null,
   "metadata": {},
   "outputs": [],
   "source": [
    "# skip\n",
    "plt.figure(figsize=(5, 10))\n",
    "plt.imshow(np.log(np.abs(rf.compute_range_azimuth(data['radar'][FRAME_IDX]))))\n",
    "plt.show()"
   ]
  },
  {
   "cell_type": "markdown",
   "metadata": {},
   "source": [
    "Full Tensorflow implementation"
   ]
  },
  {
   "cell_type": "code",
   "execution_count": null,
   "metadata": {},
   "outputs": [],
   "source": [
    "# skip\n",
    "\n",
    "spectrum, weights = aoa_capon(\n",
    "    range_cube, \n",
    "    steering_vec=tf.cast(rf.steering_vec, tf.complex128),\n",
    "    mu = None\n",
    ")\n",
    "\n",
    "plt.figure(figsize=(5, 10))\n",
    "plt.imshow(np.fliplr(np.flipud(np.log(np.abs(spectrum)))))\n",
    "plt.show()"
   ]
  }
 ],
 "metadata": {
  "kernelspec": {
   "display_name": "Python 3",
   "language": "python",
   "name": "python3"
  }
 },
 "nbformat": 4,
 "nbformat_minor": 4
}
