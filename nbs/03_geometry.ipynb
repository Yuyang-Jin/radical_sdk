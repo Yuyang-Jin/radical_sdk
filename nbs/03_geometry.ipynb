{
 "cells": [
  {
   "cell_type": "code",
   "execution_count": null,
   "metadata": {},
   "outputs": [],
   "source": [
    "#default_exp geometry"
   ]
  },
  {
   "cell_type": "markdown",
   "metadata": {},
   "source": [
    "# Geometry\n",
    "\n",
    "Geometry transforms and projections. Implemented as Tensorflow layers and differentiable if it makes sense."
   ]
  },
  {
   "cell_type": "code",
   "execution_count": null,
   "metadata": {},
   "outputs": [],
   "source": [
    "#export\n",
    "\n",
    "import tensorflow as tf\n",
    "from tensorflow.keras import models, layers\n",
    "import tensorflow_addons as tfa\n",
    "\n",
    "import numpy as np"
   ]
  },
  {
   "cell_type": "code",
   "execution_count": null,
   "metadata": {},
   "outputs": [],
   "source": [
    "class PolarToCartesianWarp(layers.Layer):\n",
    "    \"\"\"Differentiable Polar Image to Cartersian Mapping\"\"\"\n",
    "    def __init__(self, full=True, scale=1.):\n",
    "        super(PolarToCartesianWarp, self).__init__()\n",
    "        self.full = full\n",
    "        self.scale = scale\n",
    "\n",
    "    def build(self, input_shape):\n",
    "        range_bins, angle_bins = input_shape[1:3]\n",
    "        xx = np.arange(-range_bins, range_bins)/range_bins\n",
    "        yy = 1 - np.arange(0, range_bins)/range_bins\n",
    "        \n",
    "        mg = np.meshgrid(xx, yy)\n",
    "        \n",
    "        rr = range_bins - np.sqrt(mg[0]**2 + mg[1]**2) * range_bins\n",
    "        tt = angle_bins - np.arctan2(mg[1], mg[0])/np.pi*angle_bins\n",
    "\n",
    "        self.warp = tf.Variable(\n",
    "            np.stack([tt, rr], axis=-1)[np.newaxis, ...],\n",
    "            trainable=False,\n",
    "            dtype=tf.float32\n",
    "        )\n",
    "\n",
    "        self.warp = tf.repeat(self.warp, repeats=input_shape[0], axis=0)\n",
    "\n",
    "    def call(self, inputs):\n",
    "        return tfa.image.resampler(inputs, self.warp)"
   ]
  },
  {
   "cell_type": "code",
   "execution_count": null,
   "metadata": {},
   "outputs": [],
   "source": []
  }
 ],
 "metadata": {
  "kernelspec": {
   "display_name": "Python 3",
   "language": "python",
   "name": "python3"
  }
 },
 "nbformat": 4,
 "nbformat_minor": 4
}
