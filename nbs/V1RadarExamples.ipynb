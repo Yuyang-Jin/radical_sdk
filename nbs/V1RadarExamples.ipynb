{
 "cells": [
  {
   "cell_type": "markdown",
   "metadata": {},
   "source": [
    "# Using data from V1 Radar"
   ]
  },
  {
   "cell_type": "code",
   "execution_count": null,
   "metadata": {},
   "outputs": [],
   "source": [
    "import radicalsdk.radar.v1_constants as radarv1"
   ]
  },
  {
   "cell_type": "code",
   "execution_count": null,
   "metadata": {},
   "outputs": [
    {
     "name": "stdout",
     "output_type": "stream",
     "text": [
      "F matrix:\n",
      "[[922.34851074   0.         649.70727539]\n",
      " [  0.         922.69921875 357.53579712]\n",
      " [  0.           0.           1.        ]]\n",
      "P matrix:\n",
      "[[-5.12586935e-02  2.58076793e-02 -2.49800141e-02 -6.90786858e-03]\n",
      " [-9.56394526e-04 -7.09595869e-01  6.52751746e-01  5.25679611e-03]\n",
      " [ 3.86944015e-04  1.80349438e-01 -1.77886842e-01 -4.71731366e-02]]\n"
     ]
    }
   ],
   "source": [
    "print(f\"F matrix:\\n{radarv1.F}\")\n",
    "print(f\"P matrix:\\n{radarv1.P}\")"
   ]
  },
  {
   "cell_type": "code",
   "execution_count": null,
   "metadata": {},
   "outputs": [],
   "source": []
  }
 ],
 "metadata": {
  "kernelspec": {
   "display_name": "Python 3",
   "language": "python",
   "name": "python3"
  }
 },
 "nbformat": 4,
 "nbformat_minor": 4
}
